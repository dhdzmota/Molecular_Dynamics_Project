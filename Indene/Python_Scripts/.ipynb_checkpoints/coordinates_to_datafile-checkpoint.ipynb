{
 "cells": [
  {
   "cell_type": "markdown",
   "metadata": {},
   "source": [
    "# XYZ file to data file for LAMMPS"
   ]
  },
  {
   "cell_type": "code",
   "execution_count": 22,
   "metadata": {},
   "outputs": [],
   "source": [
    "# Import libaries\n",
    "import pandas as pd\n",
    "import numpy as np"
   ]
  },
  {
   "cell_type": "code",
   "execution_count": 86,
   "metadata": {},
   "outputs": [],
   "source": [
    "# Read the data from the coordinate file\n",
    "with open('../Transitory_files/indene_triclorobenzene.txt', 'r') as coordinates:\n",
    "    # Use a variable\n",
    "    text_coordinates = coordinates.read()\n",
    "\n",
    "# Take the position of the atoms and generate a list\n",
    "atom_position = text_coordinates.split('\\n')\n",
    "\n",
    "# List comprehension with a filter of blank spaces\n",
    "final_coordinates = [list(filter(lambda x: x!='', atom.split(' '))) for atom in atom_position]\n",
    "for i in range(len(final_coordinates)):\n",
    "    if final_coordinates[i][0] == 'C':\n",
    "        final_coordinates[i][0] = 1\n",
    "    elif final_coordinates[i][0] == 'H':\n",
    "        final_coordinates[i][0] = 2\n",
    "    else:\n",
    "        final_coordinates[i][0]= 3\n",
    "    final_coordinates[i].insert(1,0)\n",
    "    final_coordinates[i].insert(0,i+1)\n",
    "\n",
    "# Generate a dataframe with the information\n",
    "df_final_coordinates = pd.DataFrame(final_coordinates, dtype=float, columns=['id', 'type','ch','x', 'y', 'z'])\n",
    "# Modify the parameters of the dataframe\n",
    "\n",
    "# Change float into integers\n",
    "df_final_coordinates.id = df_final_coordinates.id.astype(int)\n",
    "df_final_coordinates.type = df_final_coordinates.type.astype(int)\n",
    "df_final_coordinates.ch = df_final_coordinates.ch.astype(int)\n",
    "\n",
    "# Center the coordinate data by substracting the mean\n",
    "df_final_coordinates.x = df_final_coordinates.x - df_final_coordinates.x.mean()\n",
    "df_final_coordinates.y = df_final_coordinates.y - df_final_coordinates.y.mean()\n",
    "df_final_coordinates.z = df_final_coordinates.z - df_final_coordinates.z.mean()"
   ]
  },
  {
   "cell_type": "code",
   "execution_count": 108,
   "metadata": {},
   "outputs": [],
   "source": [
    "# Generate a dictionary with all the texts\n",
    "texts = {'1':'Indene_1-2-4tridichlorobenzene data file \\n',\n",
    "        '2': f'{df_final_coordinates.shape[0]} atoms\\n',\n",
    "        '3': f'{df_final_coordinates.type.max()} atom types\\n',\n",
    "        '4': f'\\t{df_final_coordinates.x.min()}\\t{df_final_coordinates.x.max()}\\t xlo xhi',\n",
    "        '5': f'\\t{df_final_coordinates.y.min()}\\t{df_final_coordinates.y.max()}\\t ylo yhi',\n",
    "        '6': f'\\t{df_final_coordinates.z.min()}\\t{df_final_coordinates.z.max()}\\t zlo zhi',\n",
    "        '7': 'Masses\\n \\t 1\\t 12.000\\n \\t 2\\t 1.00784\\n \\t 3\\t 35.453\\n',\n",
    "        '8': f'Atoms\\n',\n",
    "        '9': df_final_coordinates.to_csv(index=False, header=None, sep=\"\\t\")\n",
    "        }\n",
    "# Create a full text with a list comprehension\n",
    "final_text_datafile = '\\n'.join([texts[element] for element in list(texts.keys())])\n",
    "\n",
    "# Write the text into a data file\n",
    "with open('../Transitory_files/indene_tridichlorobenzene.data', 'w') as output:\n",
    "    var = output.write(final_text_datafile)"
   ]
  },
  {
   "cell_type": "code",
   "execution_count": null,
   "metadata": {},
   "outputs": [],
   "source": []
  }
 ],
 "metadata": {
  "kernelspec": {
   "display_name": "Python 3",
   "language": "python",
   "name": "python3"
  },
  "language_info": {
   "codemirror_mode": {
    "name": "ipython",
    "version": 3
   },
   "file_extension": ".py",
   "mimetype": "text/x-python",
   "name": "python",
   "nbconvert_exporter": "python",
   "pygments_lexer": "ipython3",
   "version": "3.7.3"
  }
 },
 "nbformat": 4,
 "nbformat_minor": 2
}
